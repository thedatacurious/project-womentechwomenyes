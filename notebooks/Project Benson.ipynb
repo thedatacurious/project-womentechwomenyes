{
 "cells": [
  {
   "cell_type": "markdown",
   "metadata": {},
   "source": [
    "# Project Benson"
   ]
  },
  {
   "cell_type": "markdown",
   "metadata": {},
   "source": [
    "## Loading and Cleaning "
   ]
  },
  {
   "cell_type": "code",
   "execution_count": 34,
   "metadata": {},
   "outputs": [],
   "source": [
    "import pandas as pd\n",
    "col_names = ['BOOTH','UNIT','SCP','STATION','LINENAME','DIVISION','DATE','TIME','DESC', 'ENTRIES','EXITS']\n",
    "filenames = ['turnstile_190504.txt','turnstile_190511.txt','turnstile_190518.txt','turnstile_190525.txt']"
   ]
  },
  {
   "cell_type": "code",
   "execution_count": 35,
   "metadata": {},
   "outputs": [],
   "source": [
    "def merge_data(list_of_files):\n",
    "    new_df = pd.DataFrame()\n",
    "    for file in list_of_files:\n",
    "        df = pd.read_table('data/'+file, sep = \",\", header = 0, names = col_names)\n",
    "        #print(len(df)) -- just for checking \n",
    "        new_df = new_df.append(df)\n",
    "    return new_df\n"
   ]
  },
  {
   "cell_type": "code",
   "execution_count": 36,
   "metadata": {},
   "outputs": [],
   "source": [
    "df = merge_data(filenames)"
   ]
  },
  {
   "cell_type": "code",
   "execution_count": 37,
   "metadata": {},
   "outputs": [
    {
     "data": {
      "text/plain": [
       "0         00:00:00\n",
       "1         04:00:00\n",
       "2         08:00:00\n",
       "3         12:00:00\n",
       "4         16:00:00\n",
       "            ...   \n",
       "203358    05:00:00\n",
       "203359    09:00:00\n",
       "203360    13:00:00\n",
       "203361    17:00:00\n",
       "203362    21:00:00\n",
       "Name: TIME, Length: 822989, dtype: object"
      ]
     },
     "execution_count": 37,
     "metadata": {},
     "output_type": "execute_result"
    }
   ],
   "source": [
    "###convert DATE and TIME to datetime objects \n",
    "df['DATE'] =  pd.to_datetime(df['DATE'], format= \"%m/%d/%Y\")\n",
    "df['DATE'].dt.date\n",
    "\n",
    "df['TIME'] =  pd.to_datetime(df['TIME'], format = \"%H:%M:%S\")\n",
    "df['TIME'].dt.time"
   ]
  },
  {
   "cell_type": "code",
   "execution_count": 38,
   "metadata": {},
   "outputs": [],
   "source": [
    "### create new variable that will uniquely identify stations because some stations have the same name \n",
    "df['STATLINE'] = df['STATION'] + '-' + df['LINENAME']"
   ]
  },
  {
   "cell_type": "code",
   "execution_count": 39,
   "metadata": {},
   "outputs": [],
   "source": [
    "### to group entries and exits by date, unit, turnstile and then sort by time \n",
    "### this is to apply the diff() function in chronological order by unique turnstile \n",
    "grouped = df.groupby(['STATLINE', 'UNIT', 'SCP', 'DATE'])\n",
    "grouped = grouped.apply(lambda _df: _df.sort_values(by=['TIME']))"
   ]
  },
  {
   "cell_type": "code",
   "execution_count": 49,
   "metadata": {},
   "outputs": [],
   "source": [
    "### add day of week to dataframe to identify weekdays and weekends \n",
    "grouped['DAY'] = grouped['DATE'].dt.dayofweek"
   ]
  },
  {
   "cell_type": "code",
   "execution_count": 50,
   "metadata": {},
   "outputs": [],
   "source": [
    "### calculate absolute number of entries and exits because data is cumulative \n",
    "grouped['entry_diff'] = grouped.ENTRIES.diff()\n",
    "grouped['exit_diff'] = grouped.EXITS.diff()"
   ]
  },
  {
   "cell_type": "code",
   "execution_count": 51,
   "metadata": {},
   "outputs": [],
   "source": [
    "### remove rows that where difference is negative for both entries and exits \n",
    "grouped_entry = grouped[(grouped.entry_diff > 0)]\n",
    "grouped_exit = grouped[(grouped.exit_diff > 0)]"
   ]
  },
  {
   "cell_type": "markdown",
   "metadata": {},
   "source": [
    "# EDA "
   ]
  },
  {
   "cell_type": "code",
   "execution_count": 52,
   "metadata": {},
   "outputs": [
    {
     "data": {
      "text/plain": [
       "<function datetime.time>"
      ]
     },
     "execution_count": 52,
     "metadata": {},
     "output_type": "execute_result"
    }
   ],
   "source": [
    "### define morning peakhours using start and end times \n",
    "import datetime\n",
    "\n",
    "start_time = datetime.datetime.strptime('07:00:00', '%H:%M:%S')\n",
    "start_time.time\n",
    "end_time = datetime.datetime.strptime('10:00:00', '%H:%M:%S')\n",
    "end_time.time"
   ]
  },
  {
   "cell_type": "code",
   "execution_count": 53,
   "metadata": {},
   "outputs": [
    {
     "data": {
      "text/plain": [
       "STATLINE\n",
       "TWENTY THIRD ST-1               1372976.0\n",
       "GRD CNTRL-42 ST-4567S             11271.0\n",
       "34 ST-PENN STA-123ACE              9753.0\n",
       "34 ST-HERALD SQ-BDFMNQRW           9726.0\n",
       "42 ST-PORT AUTH-ACENQRS1237W       9103.0\n",
       "14 ST-UNION SQ-LNQR456W            7918.0\n",
       "72 ST-123                          7289.0\n",
       "34 ST-PENN STA-ACE                 7226.0\n",
       "96 ST-123                          6207.0\n",
       "125 ST-456                         6143.0\n",
       "CANAL ST-JNQRZ6W                   5975.0\n",
       "59 ST COLUMBUS-ABCD1               5696.0\n",
       "W 4 ST-WASH SQ-ABCDEFM             5520.0\n",
       "TIMES SQ-42 ST-1237ACENQRSW        5518.0\n",
       "14 ST-UNION SQ-456LNQRW            5458.0\n",
       "Name: exit_diff, dtype: float64"
      ]
     },
     "execution_count": 53,
     "metadata": {},
     "output_type": "execute_result"
    }
   ],
   "source": [
    "### find the busiest stations in terms of exits during weekends for mornings \n",
    "grouped_exit2 = grouped_exit[(grouped_exit.DAY > 5) & (grouped_exit.TIME >= start_time ) & ((grouped_exit.TIME <= end_time ))]\n",
    "grouped_exit2.groupby(grouped_exit2.STATLINE).exit_diff.sum().sort_values(ascending = False).head(15)"
   ]
  },
  {
   "cell_type": "code",
   "execution_count": 55,
   "metadata": {},
   "outputs": [
    {
     "data": {
      "text/plain": [
       "STATLINE\n",
       "KINGSBRIDGE RD-BD              16730176.0\n",
       "TWENTY THIRD ST-1               2795245.0\n",
       "FULTON ST-ACJZ2345              1055810.0\n",
       "GRD CNTRL-42 ST-4567S            632320.0\n",
       "5 AV/53 ST-EM                    365904.0\n",
       "14 ST-UNION SQ-LNQR456W          303822.0\n",
       "FULTON ST-2345ACJZ               303744.0\n",
       "PATH NEW WTC-1                   265155.0\n",
       "34 ST-HERALD SQ-BDFMNQRW         224174.0\n",
       "47-50 STS ROCK-BDFM              221612.0\n",
       "34 ST-PENN STA-123ACE            165511.0\n",
       "72 ST-2 AVE-Q                    159702.0\n",
       "WALL ST-45                       158503.0\n",
       "TIMES SQ-42 ST-1237ACENQRSW      157042.0\n",
       "LEXINGTON AV/53-EM6              149508.0\n",
       "Name: exit_diff, dtype: float64"
      ]
     },
     "execution_count": 55,
     "metadata": {},
     "output_type": "execute_result"
    }
   ],
   "source": [
    "### find the busiest stations in terms of exits during weekdays for mornings \n",
    "grouped_exit3 = grouped_exit[(grouped_exit.DAY >= 0) & (grouped_exit.DAY < 5) & (grouped_exit.TIME >= start_time ) & ((grouped_exit.TIME <= end_time ))]\n",
    "grouped_exit3.groupby(grouped_exit3.STATLINE).exit_diff.sum().sort_values(ascending = False).head(15)"
   ]
  },
  {
   "cell_type": "code",
   "execution_count": 59,
   "metadata": {},
   "outputs": [
    {
     "data": {
      "text/plain": [
       "STATLINE\n",
       "TWENTY THIRD ST-1               94846.0\n",
       "JKSN HT-ROOSVLT-EFMR7           11009.0\n",
       "34 ST-PENN STA-123ACE           10285.0\n",
       "42 ST-PORT AUTH-ACENQRS1237W     9894.0\n",
       "103 ST-CORONA-7                  6603.0\n",
       "FLUSHING-MAIN-7                  6365.0\n",
       "JAMAICA CENTER-EJZ               6332.0\n",
       "GRD CNTRL-42 ST-4567S            6224.0\n",
       "CROWN HTS-UTICA-34               6064.0\n",
       "JUNCTION BLVD-7                  6008.0\n",
       "96 ST-123                        5802.0\n",
       "34 ST-HERALD SQ-BDFMNQRW         5771.0\n",
       "EUCLID AV-AC                     5677.0\n",
       "34 ST-PENN STA-ACE               5478.0\n",
       "WOODHAVEN BLVD-MR                4959.0\n",
       "Name: entry_diff, dtype: float64"
      ]
     },
     "execution_count": 59,
     "metadata": {},
     "output_type": "execute_result"
    }
   ],
   "source": [
    "### find the busiest stations in terms of entries during weekends for mornings \n",
    "grouped_entry2 = grouped_entry[(grouped_entry.DAY > 5) & (grouped_entry.TIME >= start_time ) & ((grouped_entry.TIME <= end_time ))]\n",
    "grouped_entry2.groupby(grouped_entry2.STATLINE).entry_diff.sum().sort_values(ascending = False).head(15)"
   ]
  },
  {
   "cell_type": "code",
   "execution_count": 60,
   "metadata": {},
   "outputs": [
    {
     "data": {
      "text/plain": [
       "STATLINE\n",
       "KINGSBRIDGE RD-BD               183937920.0\n",
       "168 ST-AC1                         499914.0\n",
       "34 ST-PENN STA-123ACE              389423.0\n",
       "42 ST-PORT AUTH-ACENQRS1237W       378740.0\n",
       "GRD CNTRL-42 ST-4567S              369553.0\n",
       "FLUSHING-MAIN-7                    294568.0\n",
       "GROVE STREET-1                     277859.0\n",
       "34 ST-PENN STA-ACE                 253668.0\n",
       "JAMAICA CENTER-EJZ                 238932.0\n",
       "JKSN HT-ROOSVLT-EFMR7              219484.0\n",
       "FOREST HILLS 71-EFMR               219051.0\n",
       "TWENTY THIRD ST-1                  201083.0\n",
       "JAMAICA 179 ST-F                   187957.0\n",
       "96 ST-123                          184427.0\n",
       "HARRISON-1                         180792.0\n",
       "Name: entry_diff, dtype: float64"
      ]
     },
     "execution_count": 60,
     "metadata": {},
     "output_type": "execute_result"
    }
   ],
   "source": [
    "### find the busiest stations in terms of entries during weekdays for mornings \n",
    "grouped_entry3 = grouped_entry[(grouped_entry.DAY >= 0) & (grouped_entry.DAY < 5) & (grouped_entry.TIME >= start_time ) & ((grouped_entry.TIME <= end_time ))]\n",
    "grouped_entry3.groupby(grouped_entry3.STATLINE).entry_diff.sum().sort_values(ascending = False).head(15)"
   ]
  },
  {
   "cell_type": "code",
   "execution_count": 73,
   "metadata": {},
   "outputs": [
    {
     "data": {
      "text/plain": [
       "<function datetime.time>"
      ]
     },
     "execution_count": 73,
     "metadata": {},
     "output_type": "execute_result"
    }
   ],
   "source": [
    "### define afternoon peakhours using start and end times \n",
    "\n",
    "e_start_time = datetime.datetime.strptime('19:00:00', '%H:%M:%S')\n",
    "e_start_time.time\n",
    "e_end_time = datetime.datetime.strptime('22:00:00', '%H:%M:%S')\n",
    "e_end_time.time"
   ]
  },
  {
   "cell_type": "code",
   "execution_count": 75,
   "metadata": {},
   "outputs": [
    {
     "data": {
      "text/plain": [
       "STATLINE\n",
       "TWENTY THIRD ST-1               1375125.0\n",
       "34 ST-HERALD SQ-BDFMNQRW          57223.0\n",
       "GRD CNTRL-42 ST-4567S             43003.0\n",
       "42 ST-PORT AUTH-ACENQRS1237W      38983.0\n",
       "34 ST-PENN STA-ACE                38790.0\n",
       "TIMES SQ-42 ST-1237ACENQRSW       35018.0\n",
       "JKSN HT-ROOSVLT-EFMR7             26215.0\n",
       "14 ST-UNION SQ-LNQR456W           25832.0\n",
       "W 4 ST-WASH SQ-ABCDEFM            25244.0\n",
       "59 ST COLUMBUS-ABCD1              22565.0\n",
       "96 ST-123                         22512.0\n",
       "72 ST-123                         21052.0\n",
       "FLUSHING-MAIN-7                   20783.0\n",
       "86 ST-456                         19152.0\n",
       "14 ST-UNION SQ-456LNQRW           18196.0\n",
       "Name: exit_diff, dtype: float64"
      ]
     },
     "execution_count": 75,
     "metadata": {},
     "output_type": "execute_result"
    }
   ],
   "source": [
    "### find the busiest stations in terms of exits during weekends for evenings \n",
    "grouped_exit4 = grouped_exit[(grouped_exit.DAY > 5) & (grouped_exit.TIME >= e_start_time ) & ((grouped_exit.TIME <= e_end_time ))]\n",
    "grouped_exit4.groupby(grouped_exit4.STATLINE).exit_diff.sum().sort_values(ascending = False).head(15)"
   ]
  },
  {
   "cell_type": "code",
   "execution_count": 76,
   "metadata": {},
   "outputs": [
    {
     "data": {
      "text/plain": [
       "STATLINE\n",
       "BROOKLYN BRIDGE-456JZ           5420995.0\n",
       "23 ST-CE                        1947511.0\n",
       "TWENTY THIRD ST-1               1395549.0\n",
       "34 ST-HERALD SQ-BDFMNQRW         669241.0\n",
       "GRD CNTRL-42 ST-4567S            623364.0\n",
       "34 ST-PENN STA-ACE               566835.0\n",
       "42 ST-PORT AUTH-ACENQRS1237W     533403.0\n",
       "FLUSHING-MAIN-7                  379117.0\n",
       "TIMES SQ-42 ST-1237ACENQRSW      339800.0\n",
       "34 ST-PENN STA-123               335420.0\n",
       "JKSN HT-ROOSVLT-EFMR7            287059.0\n",
       "14 ST-UNION SQ-LNQR456W          268993.0\n",
       "86 ST-456                        254201.0\n",
       "FULTON ST-2345ACJZ               253462.0\n",
       "JAMAICA CENTER-EJZ               247972.0\n",
       "Name: exit_diff, dtype: float64"
      ]
     },
     "execution_count": 76,
     "metadata": {},
     "output_type": "execute_result"
    }
   ],
   "source": [
    "### find the busiest stations in terms of exits during weekdays for evenings \n",
    "grouped_exit5 = grouped_exit[(grouped_exit.DAY >= 0) & (grouped_exit.DAY < 5) & (grouped_exit.TIME >= e_start_time ) & ((grouped_exit.TIME <= e_end_time ))]\n",
    "grouped_exit5.groupby(grouped_exit5.STATLINE).exit_diff.sum().sort_values(ascending = False).head(15)"
   ]
  },
  {
   "cell_type": "code",
   "execution_count": 77,
   "metadata": {},
   "outputs": [
    {
     "data": {
      "text/plain": [
       "STATLINE\n",
       "8 ST-NYU-NRW                    172696.0\n",
       "TWENTY THIRD ST-1                97071.0\n",
       "34 ST-HERALD SQ-BDFMNQRW         70427.0\n",
       "GRD CNTRL-42 ST-4567S            53873.0\n",
       "34 ST-PENN STA-ACE               50847.0\n",
       "42 ST-PORT AUTH-ACENQRS1237W     46345.0\n",
       "TIMES SQ-42 ST-1237ACENQRSW      43897.0\n",
       "59 ST COLUMBUS-ABCD1             40442.0\n",
       "14 ST-UNION SQ-LNQR456W          39927.0\n",
       "CANAL ST-JNQRZ6W                 33552.0\n",
       "W 4 ST-WASH SQ-ABCDEFM           30688.0\n",
       "34 ST-PENN STA-123ACE            27983.0\n",
       "72 ST-123                        25594.0\n",
       "86 ST-456                        25488.0\n",
       "47-50 STS ROCK-BDFM              24832.0\n",
       "Name: entry_diff, dtype: float64"
      ]
     },
     "execution_count": 77,
     "metadata": {},
     "output_type": "execute_result"
    }
   ],
   "source": [
    "### find the busiest stations in terms of entries during weekends for evenings  \n",
    "grouped_entry4 = grouped_entry[(grouped_entry.DAY > 5) & (grouped_entry.TIME >= e_start_time ) & ((grouped_entry.TIME <= e_end_time ))]\n",
    "grouped_entry4.groupby(grouped_entry4.STATLINE).entry_diff.sum().sort_values(ascending = False).head(15)"
   ]
  },
  {
   "cell_type": "code",
   "execution_count": 78,
   "metadata": {},
   "outputs": [
    {
     "data": {
      "text/plain": [
       "STATLINE\n",
       "23 ST-CE                       2282595.0\n",
       "GRD CNTRL-42 ST-4567S          1256374.0\n",
       "34 ST-HERALD SQ-BDFMNQRW        996694.0\n",
       "47-50 STS ROCK-BDFM             757065.0\n",
       "14 ST-UNION SQ-LNQR456W         594712.0\n",
       "FULTON ST-2345ACJZ              560015.0\n",
       "TIMES SQ-42 ST-1237ACENQRSW     546027.0\n",
       "BROOKLYN BRIDGE-456JZ           498147.0\n",
       "59 ST COLUMBUS-ABCD1            494248.0\n",
       "PATH NEW WTC-1                  485907.0\n",
       "34 ST-PENN STA-ACE              483550.0\n",
       "LEXINGTON AV/53-EM6             450324.0\n",
       "42 ST-BRYANT PK-BDFM7           417459.0\n",
       "59 ST-456NQRW                   387592.0\n",
       "CANAL ST-JNQRZ6W                363412.0\n",
       "Name: entry_diff, dtype: float64"
      ]
     },
     "execution_count": 78,
     "metadata": {},
     "output_type": "execute_result"
    }
   ],
   "source": [
    "### find the busiest stations in terms of entries during weekdays for evenings \n",
    "grouped_entry5 = grouped_entry[(grouped_entry.DAY >= 0) & (grouped_entry.DAY < 5) & (grouped_entry.TIME >= e_start_time ) & ((grouped_entry.TIME <= e_end_time ))]\n",
    "grouped_entry5.groupby(grouped_entry5.STATLINE).entry_diff.sum().sort_values(ascending = False).head(15)"
   ]
  },
  {
   "cell_type": "markdown",
   "metadata": {},
   "source": [
    " ## Cross referencing other data sources"
   ]
  },
  {
   "cell_type": "markdown",
   "metadata": {},
   "source": [
    "### Here's the tech company [map](https://therealdeal.com/2019/08/23/map-heres-a-look-at-all-the-big-tech-locations-in-nyc/)"
   ]
  },
  {
   "cell_type": "code",
   "execution_count": 61,
   "metadata": {},
   "outputs": [
    {
     "name": "stdout",
     "output_type": "stream",
     "text": [
      "\n",
      " 23 ST :  ['23 ST-1' '23 ST-6' '23 ST-CE' '23 ST-FM' '23 ST-NRW'\n",
      " 'COURT SQ-23 ST-EMG']\n",
      "\n",
      " 28 ST :  ['28 ST-1' '28 ST-6' '28 ST-NRW']\n",
      "\n",
      " 14 ST :  ['14 ST-123FLM' '14 ST-ACEL' '14 ST-FLM123' '14 ST-UNION SQ-456LNQRW'\n",
      " '14 ST-UNION SQ-LNQR456W']\n",
      "\n",
      " UNION :  ['14 ST-UNION SQ-456LNQRW' '14 ST-UNION SQ-LNQR456W' 'UNION ST-R']\n",
      "\n",
      " 42 ST :  ['42 ST-BRYANT PK-BDFM7' '42 ST-PORT AUTH-ACENGRS1237W'\n",
      " '42 ST-PORT AUTH-ACENQRS1237W' 'GRD CNTRL-42 ST-4567S'\n",
      " 'TIMES SQ-42 ST-1237ACENQRS' 'TIMES SQ-42 ST-1237ACENQRSW'\n",
      " 'TIMES SQ-42 ST-ACENQRS1237W']\n"
     ]
    }
   ],
   "source": [
    "### We identified the top stations that were closest to tech firms, but there were multiple stations with the same name \n",
    "\n",
    "names = ['23 ST', '28 ST', '14 ST', 'UNION', '42 ST']\n",
    "for name in names:\n",
    "   print('\\n', name, ': ' , grouped[grouped.STATION.str.contains(name) ].STATLINE.unique())"
   ]
  },
  {
   "cell_type": "code",
   "execution_count": 62,
   "metadata": {},
   "outputs": [],
   "source": [
    "### We identified the correct stations names by cross referencing the subway map and tech company map \n",
    "correct_names = ['23 ST-6', '28 ST-6', '14 ST-ACEL', '14 ST-UNION SQ-456LNQRW',\n",
    "                 '14 ST-UNION SQ-LNQR456W' 'UNION ST-R',  'TIMES SQ-42 ST-1237ACENQRS',\n",
    "                 'TIMES SQ-42 ST-1237ACENQRSW',  'TIMES SQ-42 ST-ACENQRS1237W']"
   ]
  },
  {
   "cell_type": "code",
   "execution_count": 83,
   "metadata": {},
   "outputs": [
    {
     "name": "stdout",
     "output_type": "stream",
     "text": [
      "[('TIMES SQ-42 ST-1237ACENQRSW', 157042.0), ('14 ST-UNION SQ-456LNQRW', 128589.0), ('23 ST-6', 115132.0), ('28 ST-6', 92242.0), ('14 ST-ACEL', 82465.0), ('TIMES SQ-42 ST-ACENQRS1237W', 38010.0), ('TIMES SQ-42 ST-1237ACENQRS', 21767.0), ('14 ST-UNION SQ-LNQR456WUNION ST-R', 0.0)] \n",
      "\n"
     ]
    }
   ],
   "source": [
    "exit_count = {}\n",
    "\n",
    "for station in correct_names:\n",
    "    exit_count[station]=grouped_exit3[grouped_exit3.STATLINE == station].exit_diff.sum()\n",
    "\n",
    "print(sorted(exit_count.items(),key = lambda x: x[1], reverse = True), '\\n')"
   ]
  },
  {
   "cell_type": "code",
   "execution_count": 82,
   "metadata": {},
   "outputs": [
    {
     "name": "stdout",
     "output_type": "stream",
     "text": [
      "[('TIMES SQ-42 ST-1237ACENQRSW', 546027.0), ('23 ST-6', 217057.0), ('14 ST-UNION SQ-456LNQRW', 188828.0), ('TIMES SQ-42 ST-ACENQRS1237W', 171127.0), ('14 ST-ACEL', 162558.0), ('28 ST-6', 147689.0), ('TIMES SQ-42 ST-1237ACENQRS', 123570.0), ('14 ST-UNION SQ-LNQR456WUNION ST-R', 0.0)] \n",
      "\n"
     ]
    }
   ],
   "source": [
    "entry_count = {}\n",
    "\n",
    "for station in correct_names:\n",
    "    entry_count[station]=grouped_entry5 [grouped_entry5.STATLINE == station].entry_diff.sum()\n",
    "\n",
    "print(sorted(entry_count.items(),key = lambda x: x[1], reverse = True), '\\n')"
   ]
  },
  {
   "cell_type": "code",
   "execution_count": null,
   "metadata": {},
   "outputs": [],
   "source": []
  }
 ],
 "metadata": {
  "kernelspec": {
   "display_name": "Python 3",
   "language": "python",
   "name": "python3"
  },
  "language_info": {
   "codemirror_mode": {
    "name": "ipython",
    "version": 3
   },
   "file_extension": ".py",
   "mimetype": "text/x-python",
   "name": "python",
   "nbconvert_exporter": "python",
   "pygments_lexer": "ipython3",
   "version": "3.7.4"
  }
 },
 "nbformat": 4,
 "nbformat_minor": 2
}
