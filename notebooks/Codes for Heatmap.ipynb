{
 "cells": [
  {
   "cell_type": "markdown",
   "metadata": {},
   "source": [
    "### This is the code for the heatmap "
   ]
  },
  {
   "cell_type": "code",
   "execution_count": null,
   "metadata": {},
   "outputs": [],
   "source": [
    "import matplotlib.pyplot as plt\n",
    "import numpy as np\n",
    "import pandas as pd\n",
    "from sklearn import datasets\n",
    "\n",
    "# You can configure the format of the images: ‘png’, ‘retina’, ‘jpeg’, ‘svg’, ‘pdf’.\n",
    "%config InlineBackend.figure_format = 'svg'\n",
    "# this statement allows the visuals to render within your Jupyter Notebook\n",
    "%matplotlib inline \n",
    "import seaborn as sns"
   ]
  },
  {
   "cell_type": "code",
   "execution_count": null,
   "metadata": {},
   "outputs": [],
   "source": []
  },
  {
   "cell_type": "markdown",
   "metadata": {},
   "source": [
    "### Morning Heatmap"
   ]
  },
  {
   "cell_type": "code",
   "execution_count": null,
   "metadata": {},
   "outputs": [],
   "source": [
    "### identify stations with the highest exits in the morning \n",
    "top_exit_mornings = ['KINGSBRIDGE RD-BD','TWENTY THIRD ST-1','FULTON ST-ACJZ2345','GRD CNTRL-42 ST-4567S',\n",
    "                     '5 AV/53 ST-EM','TIMES SQ-42 ST-1237ACENQRSW','14 ST-UNION SQ-456LNQRW','23 ST-6',\n",
    "                     '28 ST-6','14 ST-ACEL']\n",
    "\n",
    "### filter df on morning exits on weekdays using top 5 stations and top 5 stations near tech firms \n",
    "top_exit_mornings_df = grouped_exit3.loc[grouped_exit3['STATLINE'].isin(top_exit_mornings)]\n",
    "\n",
    "### need to reset and drop the index because there are duplicate columns owing the the groupby \n",
    "### that was applied to sort the turnstiles in chronological order to apply diff() function \n",
    "top_exit_mornings_df.reset_index(drop=True, inplace=True)\n",
    "\n",
    "### create a crosstab for seaborn heatmap input\n",
    "### crosstab contains average daily counts of each station \n",
    "top_exit_mornings_ct = pd.crosstab(top_exit_mornings_df.STATLINE, top_exit_mornings_df.DAY, \n",
    "            values=top_exit_mornings_df.exit_diff, aggfunc='mean').astype(int)\n",
    "\n",
    "### normalise crosstab \n",
    "normalised_ct = (top_exit_mornings_ct-top_exit_mornings_ct.mean())/top_exit_mornings_ct.std()"
   ]
  },
  {
   "cell_type": "code",
   "execution_count": null,
   "metadata": {},
   "outputs": [],
   "source": [
    "### list to rename the days of the week since they are currently numberic \n",
    "days = ['Mon','Tue','Wed','Thu','Fri']\n",
    "\n",
    "### creating heapmap \n",
    "exit_morn_hm = sns.heatmap(normalised_ct,cmap=sns.cubehelix_palette(8),xticklabels=days)\n",
    "exit_morn_hm.set_ylim(10,0)\n",
    "\n",
    "### saving figure \n",
    "fig = exit_morn_hm.get_figure()\n",
    "fig.savefig('heatmap_top_exits_morning_weekday.png', format='png', dpi=1000,bbox_inches='tight')"
   ]
  },
  {
   "cell_type": "markdown",
   "metadata": {},
   "source": [
    "### Evening Heatmap"
   ]
  },
  {
   "cell_type": "code",
   "execution_count": null,
   "metadata": {},
   "outputs": [],
   "source": [
    "### repeating same \n",
    "\n",
    "top_entry_evening = ['23 ST-CE','GRD CNTRL-42 ST-4567S','34 ST-HERALD SQ-BDFMNQRW', '47-50 STS ROCK-BDFM', '14 ST-UNION SQ-LNQR456W',\n",
    "                     'TIMES SQ-42 ST-1237ACENQRSW','14 ST-UNION SQ-456LNQRW','23 ST-6','28 ST-6','14 ST-ACEL'] \n",
    "\n",
    "\n",
    "top_entry_evening_df = grouped_entry5.loc[grouped_entry5['STATLINE'].isin(top_entry_evening)]\n",
    "\n",
    "top_entry_evening_df.reset_index(drop=True, inplace=True)\n",
    "\n",
    "top_entry_evening_ct = pd.crosstab(top_entry_evening_df.STATLINE, top_entry_evening_df.DAY, \n",
    "            values=top_entry_evening_df.exit_diff, aggfunc='mean').astype(int)\n",
    "\n",
    "normalised_ct_entry = (top_entry_evening_ct-top_entry_evening_ct.mean())/top_entry_evening_ct.std()\n",
    "\n",
    "top_entry_evening_hm = sns.heatmap(normalised_ct_entry,cmap=sns.cubehelix_palette(8),xticklabels=days)\n",
    "top_entry_evening_hm.set_ylim(10,0)"
   ]
  },
  {
   "cell_type": "code",
   "execution_count": null,
   "metadata": {},
   "outputs": [],
   "source": [
    "fig = top_entry_evening_hm.get_figure()\n",
    "fig.savefig('heatmap_top_entries_evening_weekday.png', format='png', dpi=1000,bbox_inches='tight')"
   ]
  }
 ],
 "metadata": {
  "kernelspec": {
   "display_name": "Python 3",
   "language": "python",
   "name": "python3"
  },
  "language_info": {
   "codemirror_mode": {
    "name": "ipython",
    "version": 3
   },
   "file_extension": ".py",
   "mimetype": "text/x-python",
   "name": "python",
   "nbconvert_exporter": "python",
   "pygments_lexer": "ipython3",
   "version": "3.7.4"
  }
 },
 "nbformat": 4,
 "nbformat_minor": 2
}
